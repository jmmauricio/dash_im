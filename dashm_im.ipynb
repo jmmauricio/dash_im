{
 "cells": [
  {
   "cell_type": "markdown",
   "metadata": {},
   "source": [
    "# Simulación de caracteristicas de máquina de inducción\n",
    "\n",
    "Ésta aplicación permite la simulación de características de una máquina de inudcción."
   ]
  },
  {
   "cell_type": "code",
   "execution_count": 1,
   "metadata": {},
   "outputs": [],
   "source": [
    "%matplotlib widget"
   ]
  },
  {
   "cell_type": "code",
   "execution_count": 4,
   "metadata": {
    "scrolled": false
   },
   "outputs": [],
   "source": [
    "import matplotlib.pyplot as plt\n",
    "import numpy as np\n",
    "from im import im\n",
    "import ipywidgets\n",
    "plt.style.use('presentation.mplstyle')"
   ]
  },
  {
   "cell_type": "code",
   "execution_count": 7,
   "metadata": {},
   "outputs": [
    {
     "data": {
      "application/vnd.jupyter.widget-view+json": {
       "model_id": "8074f6191d87419fb84b441a353daa67",
       "version_major": 2,
       "version_minor": 0
      },
      "text/plain": [
       "VBox(children=(FigureCanvasNbAgg(), HBox(children=(FloatSlider(value=0.0, description='R rotor:', max=1.5, ste…"
      ]
     },
     "metadata": {},
     "output_type": "display_data"
    }
   ],
   "source": [
    "plt.ioff()\n",
    "plt.clf()\n",
    "\n",
    "fig, axes = plt.subplots(ncols=2, figsize=(10,4))\n",
    "\n",
    "n_array = np.linspace(0,1499,500)\n",
    "mi_1 = im('abb_22kWw')\n",
    "mi_1.update(n_array)\n",
    "\n",
    "mi_1.R_2_start_0 =  mi_1.R_2_start\n",
    "mi_1.R_2_max_0 =  mi_1.R_2_max\n",
    "mi_1.R_2_nominal_0 =  mi_1.R_2_nominal\n",
    "\n",
    "line_T_u  = axes[0].plot(n_array,mi_1.T_u)\n",
    "line_I_1m = axes[1].plot(n_array,np.abs(mi_1.I_1))\n",
    "\n",
    "\n",
    "line_T_u_nom = axes[0].plot(n_array,(n_array-n_array) + mi_1.T_u_nom)\n",
    "line_I_1_nom = axes[1].plot(n_array,(n_array-n_array) + mi_1.I_nom)\n",
    "\n",
    "\n",
    "\n",
    "\n",
    "\n",
    "sld_R2 = ipywidgets.FloatSlider(orientation='horizontal',description = u\"R rotor:\", \n",
    "                                value=0.0, min=0.0,max= mi_1.R_2_nominal*10, \n",
    "                                step=mi_1.R_2_nominal)\n",
    "\n",
    "sld_U1 = ipywidgets.FloatSlider(orientation='horizontal',description = u\"U:\", \n",
    "                                value=mi_1.U_n, min=0.0,max= mi_1.U_n*1.2,\n",
    "                                step=1)\n",
    "\n",
    "sld_freq = ipywidgets.FloatSlider(orientation='horizontal',description = u\"freq:\", \n",
    "                                value=mi_1.freq, min=0.0,max= mi_1.freq*1.2,\n",
    "                                 step = 1)\n",
    "\n",
    "ckbox_escalar = ipywidgets.Checkbox(\n",
    "    value=False,\n",
    "    description='CTRL Escalar',\n",
    "    disabled=False\n",
    ")\n",
    "\n",
    "\n",
    "def update(change):\n",
    "    if ckbox_escalar.value == True:\n",
    "        sld_U1.value = sld_freq.value/50*400.0  \n",
    "    mi_1.R_2_start =  mi_1.R_2_start_0 + sld_R2.value\n",
    "    mi_1.R_2_max =  mi_1.R_2_max_0 +sld_R2.value\n",
    "    mi_1.R_2_nominal =  mi_1.R_2_nominal_0+sld_R2.value\n",
    "    mi_1.U_1 = sld_U1.value\n",
    "    mi_1.freq = sld_freq.value\n",
    "    n_array = np.linspace(0,1499,200)\n",
    "    mi_1.update(n_array)\n",
    "    \n",
    "    line_T_u[0].set_data(n_array, mi_1.T_u)\n",
    "    line_I_1m[0].set_data(n_array,np.abs(mi_1.I_1))\n",
    "    fig.canvas.draw()\n",
    "    fig.canvas.flush_events()\n",
    "\n",
    "sld_R2.observe(update, names='value')\n",
    "sld_U1.observe(update, names='value')\n",
    "sld_freq.observe(update, names='value')\n",
    "ckbox_escalar.observe(update, names='value')\n",
    "\n",
    "layout_sliders = ipywidgets.HBox([sld_R2,sld_U1,sld_freq])\n",
    "ipywidgets.VBox([fig.canvas, layout_sliders, ckbox_escalar])"
   ]
  },
  {
   "cell_type": "code",
   "execution_count": null,
   "metadata": {},
   "outputs": [],
   "source": []
  }
 ],
 "metadata": {
  "kernelspec": {
   "display_name": "Python 3",
   "language": "python",
   "name": "python3"
  },
  "language_info": {
   "codemirror_mode": {
    "name": "ipython",
    "version": 3
   },
   "file_extension": ".py",
   "mimetype": "text/x-python",
   "name": "python",
   "nbconvert_exporter": "python",
   "pygments_lexer": "ipython3",
   "version": "3.7.1"
  }
 },
 "nbformat": 4,
 "nbformat_minor": 2
}
