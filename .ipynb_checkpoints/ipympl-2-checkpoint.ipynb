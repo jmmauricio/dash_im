{
 "cells": [
  {
   "cell_type": "markdown",
   "metadata": {},
   "source": [
    "# The Matplotlib Jupyter Widget Backend\n",
    "\n",
    "Enabling interaction with matplotlib charts in the Jupyter notebook and JupyterLab\n",
    "\n",
    "https://github.com/matplotlib/jupyter-matplotlib"
   ]
  },
  {
   "cell_type": "code",
   "execution_count": 2,
   "metadata": {},
   "outputs": [],
   "source": [
    "# Enabling the `widget` backend.\n",
    "# This requires jupyter-matplotlib a.k.a. ipympl.\n",
    "# ipympl can be install via pip or conda.\n",
    "%matplotlib widget"
   ]
  },
  {
   "cell_type": "code",
   "execution_count": 5,
   "metadata": {
    "scrolled": false
   },
   "outputs": [],
   "source": [
    "# Testing matplotlib interactions with a simple plot\n",
    "\n",
    "import matplotlib.pyplot as plt\n",
    "import numpy as np\n",
    "from im import im\n",
    " "
   ]
  },
  {
   "cell_type": "code",
   "execution_count": 9,
   "metadata": {},
   "outputs": [
    {
     "data": {
      "application/vnd.jupyter.widget-view+json": {
       "model_id": "285a1a9c13964f0c92357864d90679fc",
       "version_major": 2,
       "version_minor": 0
      },
      "text/plain": [
       "HBox(children=(FloatSlider(value=1.0, max=2.0, min=0.02, orientation='vertical'), FigureCanvasNbAgg()))"
      ]
     },
     "metadata": {},
     "output_type": "display_data"
    }
   ],
   "source": [
    "# When using the `widget` backend from ipympl,\n",
    "# fig.canvas is a proper Jupyter interactive widget, which can be embedded in\n",
    "# Layout classes like HBox and Vbox.\n",
    "\n",
    "# One can bound figure attributes to other widget values.\n",
    "\n",
    "from ipywidgets import HBox, FloatSlider\n",
    "\n",
    "plt.ioff()\n",
    "plt.clf()\n",
    "\n",
    "slider = FloatSlider(\n",
    "    orientation='vertical',\n",
    "    value=1.0,\n",
    "    min=0.02,\n",
    "    max=2.0\n",
    ")\n",
    "\n",
    "fig, axes = plt.subplots(ncols=2)\n",
    "\n",
    "n_array = np.linspace(0,1499,500)\n",
    "mi_1 = im('abb_22kWw')\n",
    "mi_1.update(n_array)\n",
    "\n",
    "mi_1.R_2_start_0 =  mi_1.R_2_start\n",
    "mi_1.R_2_max_0 =  mi_1.R_2_max\n",
    "mi_1.R_2_nominal_0 =  mi_1.R_2_nominal\n",
    "\n",
    "line_Tu = axes[0].plot(n_array,mi_1.T_u)\n",
    "\n",
    "def update_lines(change):\n",
    "    \n",
    "    line_Tu[0].set_data(x, np.sin(change.new * x))\n",
    "    fig.canvas.draw()\n",
    "    fig.canvas.flush_events()\n",
    "\n",
    "slider.observe(update_lines, names='value')\n",
    "\n",
    "HBox([slider, fig.canvas])"
   ]
  },
  {
   "cell_type": "code",
   "execution_count": null,
   "metadata": {},
   "outputs": [],
   "source": []
  },
  {
   "cell_type": "code",
   "execution_count": null,
   "metadata": {},
   "outputs": [],
   "source": []
  }
 ],
 "metadata": {
  "kernelspec": {
   "display_name": "Python 3",
   "language": "python",
   "name": "python3"
  },
  "language_info": {
   "codemirror_mode": {
    "name": "ipython",
    "version": 3
   },
   "file_extension": ".py",
   "mimetype": "text/x-python",
   "name": "python",
   "nbconvert_exporter": "python",
   "pygments_lexer": "ipython3",
   "version": "3.7.1"
  }
 },
 "nbformat": 4,
 "nbformat_minor": 2
}
