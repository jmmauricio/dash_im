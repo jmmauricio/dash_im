{
 "cells": [
  {
   "cell_type": "markdown",
   "metadata": {},
   "source": [
    "In this app we:\n",
    "* Plot the gaussian density for a specific $\\mu$ and $\\sigma$\n",
    "* Use the FloatSlider widget in ipywidgets to represent $\\mu$ and $\\sigma$ values\n",
    "* Stack the density plot along with the sliders into a nice layout using HBox and VBox layout objects available in ipywidgets\n",
    "* Link the sliders to the plot so that the plot gets updated when the values of $\\mu$ and $\\sigma$ change\n",
    "\n",
    "Find the code [here](https://github.com/pbugnion/voila-gallery/blob/master/gaussian-density/index.ipynb).\n",
    "\n",
    "This example is taken from [ChakriCherukuri/mlviz](https://github.com/ChakriCherukuri/mlviz)."
   ]
  },
  {
   "cell_type": "code",
   "execution_count": 1,
   "metadata": {},
   "outputs": [],
   "source": [
    "import numpy as np\n",
    "import matplotlib.pyplot as plt\n",
    "from scipy.stats import norm\n",
    "from im import im\n",
    "import ipywidgets as widgets"
   ]
  },
  {
   "cell_type": "code",
   "execution_count": 2,
   "metadata": {},
   "outputs": [],
   "source": [
    "%matplotlib widget"
   ]
  },
  {
   "cell_type": "code",
   "execution_count": 4,
   "metadata": {},
   "outputs": [
    {
     "data": {
      "application/vnd.jupyter.widget-view+json": {
       "model_id": "5983347375654968bcf25beecefc224e",
       "version_major": 2,
       "version_minor": 0
      },
      "text/plain": [
       "FigureCanvasNbAgg()"
      ]
     },
     "metadata": {},
     "output_type": "display_data"
    },
    {
     "data": {
      "application/vnd.jupyter.widget-view+json": {
       "model_id": "0fb4d669fada40feaa1fa02174e2162a",
       "version_major": 2,
       "version_minor": 0
      },
      "text/plain": [
       "VBox(children=(HBox(children=(FloatSlider(value=0.0, description='$\\\\sf R_2$', max=4.0), FloatSlider(value=400…"
      ]
     },
     "metadata": {},
     "output_type": "display_data"
    }
   ],
   "source": [
    "\n",
    "\n",
    "n_array = np.linspace(0,1499,500)\n",
    "mi_1 = im('abb_22kWw')\n",
    "mi_1.update(n_array)\n",
    "\n",
    "mi_1.R_2_start_0 =  mi_1.R_2_start\n",
    "mi_1.R_2_max_0 =  mi_1.R_2_max\n",
    "mi_1.R_2_nominal_0 =  mi_1.R_2_nominal\n",
    "\n",
    "fig, axes = plt.subplots(ncols=2)\n",
    "\n",
    "line_Tu = axes[0].plot(n_array,mi_1.T_u)\n",
    "\n",
    "# use two sliders to represent mu and sigma\n",
    "sld_R2 = widgets.FloatSlider(description='$\\sf R_2$', value=0, min=0, max=4, step=.1)\n",
    "sld_U1 = widgets.FloatSlider(description='$\\sf U_1$', value=400, min=0.0, max=420, step=1)\n",
    "sld_freq = widgets.FloatSlider(description='$\\sf f$', value=50, min=0.0, max=75, step=1)\n",
    "\n",
    "ckbox_escalar = widgets.Checkbox(\n",
    "    value=False,\n",
    "    description='CTRL Escalar',\n",
    "    disabled=False\n",
    ")\n",
    "\n",
    "slider_layout = widgets.HBox([sld_R2, sld_U1, sld_freq])\n",
    "\n",
    "\n",
    "final_layout = widgets.VBox([slider_layout, fig.canvas])\n",
    "final_layout"
   ]
  },
  {
   "cell_type": "code",
   "execution_count": null,
   "metadata": {},
   "outputs": [],
   "source": []
  }
 ],
 "metadata": {
  "kernelspec": {
   "display_name": "Python 3",
   "language": "python",
   "name": "python3"
  },
  "language_info": {
   "codemirror_mode": {
    "name": "ipython",
    "version": 3
   },
   "file_extension": ".py",
   "mimetype": "text/x-python",
   "name": "python",
   "nbconvert_exporter": "python",
   "pygments_lexer": "ipython3",
   "version": "3.7.1"
  }
 },
 "nbformat": 4,
 "nbformat_minor": 2
}
